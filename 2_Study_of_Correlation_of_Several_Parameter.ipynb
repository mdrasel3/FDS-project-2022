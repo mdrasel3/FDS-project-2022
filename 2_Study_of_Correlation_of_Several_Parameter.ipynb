{
 "cells": [
  {
   "cell_type": "markdown",
   "id": "02d8de48",
   "metadata": {},
   "source": [
    "<img src=\"img/Formula_U_Crit.PNG\" width=\"600\"/>\n",
    "<p>\n",
    "    This is the formula for calculating the critical velocity. From the paper, we can study the correlation of \n",
    "    <ol>\n",
    "        <li>Effect of wind speed on the occurrence frequency of fire whirls</li>\n",
    "        <li>Effect of wind speed on the occurrence frequency of fire whirls with different flame heights (2 m-long burner)</li>\n",
    "        <li>Effect of wind speed on the occurrence frequency of fire whirls with different flame heights (3 m-long burner)</li>\n",
    "        <li>Effect of wind speed on the proportion of over 1.5 m-high fire whirls</li>\n",
    "    </ol>\n",
    "</p>"
   ]
  },
  {
   "cell_type": "markdown",
   "id": "58eea75a",
   "metadata": {},
   "source": [
    "<b>1. Effect of wind speed on the occurrence frequency of fire whirls</b>\n",
    "<img src=\"img/fig_3_correlation.PNG\" width=\"600\"/>"
   ]
  },
  {
   "cell_type": "markdown",
   "id": "1cce5e83",
   "metadata": {},
   "source": [
    "<b>2. Effect of wind speed on the occurrence frequency of fire whirls with different flame heights (2 m-long burner)</b>\n",
    "<img src=\"img/fig_4_correlation.PNG\" width=\"600\"/>"
   ]
  },
  {
   "cell_type": "markdown",
   "id": "91b6e9ca",
   "metadata": {},
   "source": [
    "<b>3. Effect of wind speed on the occurrence frequency of fire whirls with different flame heights (3 m-long burner)</b>\n",
    "<img src=\"img/fig_5_correlation.PNG\" width=\"600\"/>"
   ]
  },
  {
   "cell_type": "markdown",
   "id": "f293c500",
   "metadata": {},
   "source": [
    "<b>4. Effect of wind speed on the proportion of over 1.5 m-high fire whirls</b>\n",
    "<img src=\"img/fig_7_correlation.PNG\" width=\"600\"/>"
   ]
  },
  {
   "cell_type": "markdown",
   "id": "59a6be2e",
   "metadata": {},
   "source": [
    "<p>\n",
    "    In this particular experiment we have used the temperature, density and specific heat of ambient air but we can also\n",
    "    try warm and cold air to see the impact on Fire Whirl.\n",
    "</p>"
   ]
  }
 ],
 "metadata": {
  "kernelspec": {
   "display_name": "Python 3 (ipykernel)",
   "language": "python",
   "name": "python3"
  },
  "language_info": {
   "codemirror_mode": {
    "name": "ipython",
    "version": 3
   },
   "file_extension": ".py",
   "mimetype": "text/x-python",
   "name": "python",
   "nbconvert_exporter": "python",
   "pygments_lexer": "ipython3",
   "version": "3.9.7"
  }
 },
 "nbformat": 4,
 "nbformat_minor": 5
}
